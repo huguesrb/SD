{
 "cells": [
  {
   "cell_type": "markdown",
   "metadata": {},
   "source": [
    "# TP 1 SD201 - PAGE RANK "
   ]
  },
  {
   "cell_type": "markdown",
   "metadata": {},
   "source": [
    "## 2.1 - PageRank in Python"
   ]
  },
  {
   "cell_type": "code",
   "execution_count": 25,
   "metadata": {},
   "outputs": [
    {
     "name": "stdout",
     "output_type": "stream",
     "text": [
      "{1: 1, 2: 3, 3: 1, 4: 1}\n",
      "0.5333333333333333\n"
     ]
    },
    {
     "data": {
      "text/plain": [
       "[0.37417896296296294,\n",
       " 0.3260414814814815,\n",
       " 0.1498897777777778,\n",
       " 0.1498897777777778]"
      ]
     },
     "execution_count": 25,
     "metadata": {},
     "output_type": "execute_result"
    }
   ],
   "source": [
    "def PageRank(G,b,e):\n",
    "    # On suppose qu'il n'y a pas de dead ends \n",
    "    sommets = {}\n",
    "    \n",
    "    # On crée un dictionnaire qui contient tous les sommets pour avoir leur poid et leur nombre\n",
    "    for i in range(len(G)):\n",
    "        if G[i][0] in sommets:\n",
    "            sommets[G[i][0]]+=1\n",
    "        else:\n",
    "            sommets[G[i][0]]=1\n",
    "    print(sommets)\n",
    "   \n",
    "    # On construit M \n",
    "    M = []\n",
    "    for i in range(len(G)):\n",
    "        M.append([G[i][1], G[i][0] , 1/sommets[G[i][0]]])\n",
    "    \n",
    "    n = len(sommets)\n",
    "    \n",
    "    #PageRank en tant que tel \n",
    "    previous_pi = [ 1/n for i in range(n)]\n",
    "    pi = [b*i + (1-b)/n for i in product_matrix(M,previous_pi)]\n",
    "    t=0\n",
    "    print(norme1(soustraction(pi,previous_pi)))\n",
    "    while (norme1(soustraction(pi,previous_pi)))>e:\n",
    "        t+=1\n",
    "        previous_pi = pi\n",
    "        pi = [b*i + (1-b)/n for i in product_matrix(M,previous_pi)]\n",
    "        if t > 3000:\n",
    "            break\n",
    "    return pi \n",
    "    \n",
    "# Fonctions  \n",
    "\n",
    "def product_matrix(matrix,column):\n",
    "    n = len(column)\n",
    "    result = [0 for i in range(n)]\n",
    "    for i in range(len(matrix)):\n",
    "        result[matrix[i][0]-1]+= matrix[i][2]*column[matrix[i][1]-1]\n",
    "    return result\n",
    "\n",
    "def norme1(column):\n",
    "    norm = 0 \n",
    "    for i in range(len(column)):\n",
    "        norm += abs(column[i])\n",
    "    return norm\n",
    "\n",
    "def soustraction(X,Y):\n",
    "    S = []\n",
    "    for i in range(len(X)):\n",
    "        S.append(X[i]-Y[i])\n",
    "    return S\n",
    "\n",
    "G = [[1,2],[2,1],[2,3],[3,1],[4,1],[2,4]]\n",
    "\n",
    "PageRank(G,0.8,0.1)"
   ]
  },
  {
   "cell_type": "markdown",
   "metadata": {},
   "source": [
    "## 2.2 - WebPages "
   ]
  },
  {
   "cell_type": "code",
   "execution_count": 31,
   "metadata": {},
   "outputs": [
    {
     "name": "stdout",
     "output_type": "stream",
     "text": [
      "{1: 5, 2: 25, 3: 20, 4: 18, 5: 15, 6: 15, 7: 22, 8: 27, 9: 4, 10: 12, 11: 14, 12: 9, 13: 11, 14: 13, 15: 14, 16: 20, 17: 14, 18: 14, 19: 3, 20: 22, 21: 22, 22: 22, 23: 10, 24: 32, 25: 9, 26: 13, 27: 4, 28: 27, 29: 13, 30: 26, 31: 17, 32: 13, 33: 22, 34: 16, 35: 27, 36: 19, 37: 10, 38: 15, 39: 9, 40: 22, 41: 9, 42: 20, 43: 22, 44: 20, 45: 12, 46: 20, 47: 16, 48: 33, 49: 13, 50: 13, 51: 16, 52: 9, 53: 15, 54: 18, 55: 16}\n",
      "0.02175674534157505\n",
      "Binary_file.html: 0.01759140749601276\n",
      "Object-oriented_programming.html: 0.01866003689071871\n",
      "Imperative_programming.html: 0.01825591566560114\n",
      "Boolean_data_type.html: 0.017761172329354147\n",
      "Memory_address.html: 0.01777539379812107\n",
      "Subroutine.html: 0.018105321775174717\n",
      "Lisp_(programming_language).html: 0.018627530582670606\n",
      "C_(programming_language).html: 0.019598247996569836\n",
      "Computer_memory.html: 0.01808900148672876\n",
      "Virtual_machine.html: 0.018321664236436965\n",
      "Software.html: 0.018033469600574864\n",
      "Computer_science.html: 0.018330631398211613\n",
      "Unix.html: 0.018062421122648397\n",
      "Operating_system.html: 0.01910859485410921\n",
      "Porting.html: 0.0177195239524785\n",
      "Type_system.html: 0.01824317181135363\n",
      "Lexical_scope.html: 0.017367525522605738\n",
      "Source_code.html: 0.018211210623168828\n",
      "Program_(machine).html: 0.017603305785123965\n",
      "Pointer_(computer_programming).html: 0.018042358483267573\n",
      "High-level_programming_language.html: 0.018350534103943196\n",
      "JavaScript.html: 0.01841180989984466\n",
      "Database.html: 0.01783718596218596\n",
      "Assembly_language.html: 0.019126802775124616\n",
      "Computer_hardware.html: 0.018296424911257447\n",
      "Software_portability.html: 0.017894337775019593\n",
      "Snowball_programming_language.html: 0.017342657342657344\n",
      "Computer.html: 0.01846380572068371\n",
      "List_of_programming_languages.html: 0.017802151762379037\n",
      "Python_(programming_language).html: 0.018558940546975308\n",
      "Control_flow.html: 0.017769087048090708\n",
      "Low-level_programming_language.html: 0.017938842680888134\n",
      "Compiler.html: 0.018885842858629938\n",
      "GNU_Compiler_Collection.html: 0.01813084684675594\n",
      "Java_(programming_language).html: 0.019200912211674245\n",
      "Computer_program.html: 0.01867999835900202\n",
      "Logic_programming.html: 0.017895104012149467\n",
      "Integer_(computer_science).html: 0.017786116408843682\n",
      "Executable.html: 0.0180285249262522\n",
      "COBOL.html: 0.0182001688030361\n",
      "Kernel_(computing).html: 0.01747902097902098\n",
      "Linux.html: 0.017901552572007116\n",
      "Fortran.html: 0.018274796660558694\n",
      "Dynamic_programming_language.html: 0.017840855230627957\n",
      "Instruction_set.html: 0.018182401518824963\n",
      "C++.html: 0.01892443616247092\n",
      "Data_type.html: 0.018467003659108923\n",
      "Programming_language.html: 0.019861126784448624\n",
      "Strong_and_weak_typing.html: 0.017504426549881096\n",
      "Bytecode.html: 0.01795679068406341\n",
      "Object_(computer_science).html: 0.01812858685926868\n",
      "Method_(computer_programming).html: 0.017695559491014038\n",
      "Data_(computing).html: 0.01773231057441584\n",
      "Scripting_language.html: 0.018059265563870826\n",
      "Comparison_of_programming_languages.html: 0.017883866344093616\n"
     ]
    }
   ],
   "source": [
    "import re \n",
    "from os import listdir \n",
    "\n",
    "webpages = './toyset'\n",
    "\n",
    "# List of webpages \n",
    "\n",
    "\n",
    "Files = [files for files in listdir(webpages)] \n",
    "\n",
    "FSet = set(Files)\n",
    "graph = []\n",
    "\n",
    "for files in Files:\n",
    "    \n",
    "    f = open(webpages + '/' + files, \"r\") # mode read \n",
    "    \n",
    "    AllLinks = re.findall('href=[\\'\"]?([^\\'\" >]+)', f.read())\n",
    "    \n",
    "    # On a obtenu plein de links pas forcément dans Toyset, on enlève donc les links inutiles \n",
    "    \n",
    "    UseFulLinks = list(set(AllLinks) & FSet) \n",
    "    \n",
    "    for link in UseFulLinks:\n",
    "        u = Files.index(link)\n",
    "        \n",
    "        graph.append((Files.index(files)+1, u+1))\n",
    "        \n",
    "f.close()   \n",
    "\n",
    "# On applique PageRank :\n",
    "\n",
    "pi = PageRank(graph, 0.05,1)\n",
    "\n",
    "## Affichage propre du résultat : \n",
    "\n",
    "for i in range(len(pi)):\n",
    "    \n",
    "    print(Files[i] +\":\", pi[i])\n",
    "\n",
    "    "
   ]
  },
  {
   "cell_type": "markdown",
   "metadata": {},
   "source": [
    "## 3- Remove Dead Ends "
   ]
  },
  {
   "cell_type": "code",
   "execution_count": 37,
   "metadata": {},
   "outputs": [],
   "source": [
    "# On a supposé précédement qu'on avait pas de dead ends dans nos graphes, on s'intéresse maintenant à ce problème\n",
    "# on veut enlever les noeuds qui ne pointent vers rien i.e. : \n",
    "\n",
    "def Remove_dead_ends(Graph):\n",
    "    list_elements = []  # liste des noeuds dans le graphe \n",
    "    list_connected_elements = [] # liste des noeuds qui sont des points de départ \n",
    "    new_graph = []  # graphe sans dead ends \n",
    "    \n",
    "    for e in Graph:\n",
    "        if e[0] not in list_elements:\n",
    "            list_elements.append(e[0])\n",
    "        if e[0] not in list_connected_elements:\n",
    "            list_connected_elements.append(e[0])\n",
    "        if e[1] not in list_elements:\n",
    "            list_elements.append(e[1]) # On ajoute l'arrivée au graphe \n",
    "        \n",
    "        # On a maintenant la liste des noeuds qui sont des points de départ, \n",
    "        #on fait le tri de ceux qui sont dans list_connected_elts et list_elts \n",
    "        \n",
    "        \n",
    "    for e in Graph:\n",
    "        if(e[0] in list_connected_elements and e[1] in list_connected_elements):\n",
    "            new_graph.append(e) \n",
    "            # Le lien est bon : on part d'un noeud qui est connecté aux autres et qui renvoie \n",
    "            # vers un lien duquel partent d'autres connections \n",
    "            \n",
    "    return new_graph \n",
    "            \n",
    "        \n",
    "    \n",
    "            "
   ]
  },
  {
   "cell_type": "code",
   "execution_count": 39,
   "metadata": {},
   "outputs": [
    {
     "data": {
      "text/plain": [
       "[[1, 2], [1, 4], [4, 5], [5, 6], [6, 1]]"
      ]
     },
     "execution_count": 39,
     "metadata": {},
     "output_type": "execute_result"
    }
   ],
   "source": [
    "## Test du programme \n",
    "\n",
    "G2 = [[1,2],[1,4],[2,3],[4,5],[5,6],[6,1]]\n",
    "\n",
    "Remove_dead_ends(G2)"
   ]
  },
  {
   "cell_type": "code",
   "execution_count": null,
   "metadata": {},
   "outputs": [],
   "source": []
  }
 ],
 "metadata": {
  "kernelspec": {
   "display_name": "Python 3",
   "language": "python",
   "name": "python3"
  },
  "language_info": {
   "codemirror_mode": {
    "name": "ipython",
    "version": 3
   },
   "file_extension": ".py",
   "mimetype": "text/x-python",
   "name": "python",
   "nbconvert_exporter": "python",
   "pygments_lexer": "ipython3",
   "version": "3.7.6"
  }
 },
 "nbformat": 4,
 "nbformat_minor": 4
}
